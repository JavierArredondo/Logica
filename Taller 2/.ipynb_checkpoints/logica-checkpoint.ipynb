{
 "cells": [
  {
   "cell_type": "markdown",
   "metadata": {
    "colab_type": "text",
    "id": "jeMfHfb0p5cl"
   },
   "source": [
    "Importación de librerías"
   ]
  },
  {
   "cell_type": "code",
   "execution_count": 2,
   "metadata": {
    "colab": {},
    "colab_type": "code",
    "id": "cdZTN_fKoLBR"
   },
   "outputs": [],
   "source": [
    "import skfuzzy as fuzz\n",
    "from skfuzzy import control as ctrl\n",
    "import pandas as pd\n",
    "import numpy as np\n",
    "import matplotlib.pyplot as plt\n",
    "%matplotlib inline"
   ]
  },
  {
   "cell_type": "markdown",
   "metadata": {
    "colab_type": "text",
    "id": "k00j6Pcua6oS"
   },
   "source": [
    "# Antecedentes\n",
    "\n",
    "* Tamaño del café: Pequeño, Mediano y Grande.\n"
   ]
  },
  {
   "cell_type": "code",
   "execution_count": 0,
   "metadata": {
    "colab": {},
    "colab_type": "code",
    "id": "NvVSoG2DY3bg"
   },
   "outputs": [],
   "source": [
    "tamano = ctrl.Antecedent(np.arange(0, 600, 1), \"Tamaño\")\n",
    "tamano[\"Pequeño\"] = fuzz.trimf(tamano.universe, [0, 0, 350])\n",
    "tamano[\"Mediano\"] = fuzz.trimf(tamano.universe, [300, 470, 500])\n",
    "tamano[\"Grande\"] = fuzz.trimf(tamano.universe, [350, 400, 600])"
   ]
  },
  {
   "cell_type": "code",
   "execution_count": 0,
   "metadata": {
    "colab": {
     "base_uri": "https://localhost:8080/",
     "height": 283
    },
    "colab_type": "code",
    "id": "M6sDK-bOZejZ",
    "outputId": "a3310493-22a7-4192-8853-80049299c112"
   },
   "outputs": [
    {
     "data": {
      "image/png": "[encoded data removed]",
      "text/plain": [
       "<Figure size 432x288 with 1 Axes>"
      ]
     },
     "metadata": {
      "tags": []
     },
     "output_type": "display_data"
    }
   ],
   "source": [
    "tamano.view()"
   ]
  },
  {
   "cell_type": "markdown",
   "metadata": {
    "colab_type": "text",
    "id": "Mdz-WD0_bT6-"
   },
   "source": [
    "# Consecuentes\n",
    "\n",
    "* Nivel de agua: Poca, Media y Mucha"
   ]
  },
  {
   "cell_type": "code",
   "execution_count": 0,
   "metadata": {
    "colab": {},
    "colab_type": "code",
    "id": "VuNWv0hsbTO9"
   },
   "outputs": [],
   "source": [
    "agua = ctrl.Consequent(np.arange(0, 600, 1), \"Agua\")"
   ]
  },
  {
   "cell_type": "code",
   "execution_count": 0,
   "metadata": {
    "colab": {
     "base_uri": "https://localhost:8080/",
     "height": 139
    },
    "colab_type": "code",
    "id": "I3PsEHtrLc2v",
    "outputId": "ce347344-82eb-4338-8efd-4b9fff2ccd23"
   },
   "outputs": [
    {
     "name": "stdout",
     "output_type": "stream",
     "text": [
      "    tamano temperatura intensidad   agua   cafe tiempo\n",
      "0  Pequeño        Frío      Suave   Poca   Poca  Media\n",
      "1  Pequeño      Cálido     Fuerte   Poca  Media   Poca\n",
      "2  Mediano      Cálido      Medio  Media   Poca   Poca\n",
      "3  Mediano    Caluroso     Fuerte  Media  Media   Poca\n",
      "4   Grande        Frío      Suave  Mucha  Media  Media\n",
      "5   Grande    Caluroso      Medio  Mucha  Media   Poca\n"
     ]
    }
   ],
   "source": [
    "espresso = pd.read_csv(filepath_or_buffer=\"espresso.csv\")\n",
    "print(espresso)"
   ]
  },
  {
   "cell_type": "code",
   "execution_count": 0,
   "metadata": {
    "colab": {},
    "colab_type": "code",
    "id": "_-hfawrJWFt2"
   },
   "outputs": [],
   "source": [
    "espre = []\n",
    "for index, row in capuccino.iterrows():\n",
    "  antecedente = ctrl.Antecedent(np.arange(0, 46, 1), 'temperature')\n",
    "  print(row[\"tamano\"])\n",
    "  print(index)\n",
    "  print(len(row))"
   ]
  },
  {
   "cell_type": "code",
   "execution_count": 0,
   "metadata": {
    "colab": {
     "base_uri": "https://localhost:8080/",
     "height": 139
    },
    "colab_type": "code",
    "id": "8kofRspyLE8x",
    "outputId": "b71dc4c6-255f-4a6e-9401-035cf35d2702"
   },
   "outputs": [
    {
     "name": "stdout",
     "output_type": "stream",
     "text": [
      "    tamano temperatura intensidad   agua   cafe  leche tiempo\n",
      "0  Pequeño        Frío      Suave   Poca   Poca  Media  Media\n",
      "1  Pequeño      Cálido     Fuerte   Poca  Media   Poca   Poca\n",
      "2  Mediano      Cálido      Medio  Media  Media  Media  Media\n",
      "3  Mediano    Caluroso     Fuerte  Media  Media   Poca   Poca\n",
      "4   Grande      Cálido      Suave  Mucha   Poca  Media  Media\n",
      "5   Grande        Frío     Fuerte  Mucha  Media   Poca  Mucha\n"
     ]
    }
   ],
   "source": [
    "capuccino = pd.read_csv(filepath_or_buffer=\"capuccino.csv\")\n",
    "print(capuccino)"
   ]
  },
  {
   "cell_type": "code",
   "execution_count": 0,
   "metadata": {
    "colab": {
     "base_uri": "https://localhost:8080/",
     "height": 330
    },
    "colab_type": "code",
    "id": "twzYzLupNbBz",
    "outputId": "7be4799c-010d-48fa-fa19-b6003007b840"
   },
   "outputs": [
    {
     "name": "stdout",
     "output_type": "stream",
     "text": [
      "Pequeño\n",
      "0\n",
      "7\n",
      "Pequeño\n",
      "1\n",
      "7\n",
      "Mediano\n",
      "2\n",
      "7\n",
      "Mediano\n",
      "3\n",
      "7\n",
      "Grande\n",
      "4\n",
      "7\n",
      "Grande\n",
      "5\n",
      "7\n"
     ]
    }
   ],
   "source": []
  },
  {
   "cell_type": "code",
   "execution_count": 0,
   "metadata": {
    "colab": {
     "base_uri": "https://localhost:8080/",
     "height": 139
    },
    "colab_type": "code",
    "id": "FZugbe-sLldw",
    "outputId": "08ecc30c-800a-4a1a-ee9c-3973dfb4a16e"
   },
   "outputs": [
    {
     "name": "stdout",
     "output_type": "stream",
     "text": [
      "    tamano temperatura intensidad   agua   cafe  leche tiempo\n",
      "0  Pequeño        Frío      Suave   Poca   Poca  Media  Media\n",
      "1  Pequeño    Caluroso      Medio   Poca   Poca   Poca   Poca\n",
      "2  Mediano      Cálido      Medio  Media  Media  Media   Poca\n",
      "3  Mediano    Caluroso     Fuerte  Media  Mucha   Poca   Poca\n",
      "4   Grande        Frío     Fuerte  Mucha  Mucha   Poca  Mucha\n",
      "5   Grande      Cálido      Suave  Mucha   Poca  Mucha  Media\n"
     ]
    }
   ],
   "source": [
    "latte = pd.read_csv(filepath_or_buffer=\"latte.csv\")\n",
    "print(latte)"
   ]
  },
  {
   "cell_type": "code",
   "execution_count": 0,
   "metadata": {
    "colab": {
     "base_uri": "https://localhost:8080/",
     "height": 139
    },
    "colab_type": "code",
    "id": "NK1AcXqpLloX",
    "outputId": "e2228e4f-f745-4076-a87c-8f705b1b2469"
   },
   "outputs": [
    {
     "name": "stdout",
     "output_type": "stream",
     "text": [
      "    tamano temperatura intensidad   agua   cafe  leche chocolate tiempo\n",
      "0  Pequeño      Cálido     Fuerte   Poca  Media   Poca      Poca   Poca\n",
      "1  Pequeño    Caluroso      Suave   Poca   Poca  Media      Poca   Poca\n",
      "2  Mediano        Frío      Medio  Media  Media  Media      Poca  Media\n",
      "3  Mediano    Caluroso     Fuerte  Media  Media   Poca      Poca   Poca\n",
      "4   Grande        Frío     Fuerte  Mucha  Media  Media      Poca  Mucha\n",
      "5   Grande      Cálido      Suave  Mucha   Poca  Media      Poca  Media\n"
     ]
    }
   ],
   "source": [
    "mokaccino = pd.read_csv(filepath_or_buffer=\"mokaccino.csv\")\n",
    "print(mokaccino)"
   ]
  }
 ],
 "metadata": {
  "colab": {
   "name": "logica.ipynb",
   "provenance": [],
   "version": "0.3.2"
  },
  "kernelspec": {
   "display_name": "Python 3",
   "language": "python",
   "name": "python3"
  },
  "language_info": {
   "codemirror_mode": {
    "name": "ipython",
    "version": 3
   },
   "file_extension": ".py",
   "mimetype": "text/x-python",
   "name": "python",
   "nbconvert_exporter": "python",
   "pygments_lexer": "ipython3",
   "version": "3.6.7"
  }
 },
 "nbformat": 4,
 "nbformat_minor": 1
}
